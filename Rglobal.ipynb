{
 "cells": [
  {
   "cell_type": "code",
   "execution_count": 4,
   "metadata": {
    "collapsed": true
   },
   "outputs": [
    {
     "ename": "MdsIpException",
     "evalue": "%MDSPLUS-E-Unknown, Error connecting to mds.ipp.ac.cn",
     "output_type": "error",
     "traceback": [
      "\u001B[1;31m---------------------------------------------------------------------------\u001B[0m",
      "\u001B[1;31mMdsIpException\u001B[0m                            Traceback (most recent call last)",
      "Cell \u001B[1;32mIn [4], line 3\u001B[0m\n\u001B[0;32m      1\u001B[0m \u001B[38;5;28;01mimport\u001B[39;00m \u001B[38;5;21;01mnumpy\u001B[39;00m \u001B[38;5;28;01mas\u001B[39;00m \u001B[38;5;21;01mnp\u001B[39;00m\n\u001B[0;32m      2\u001B[0m \u001B[38;5;28;01mimport\u001B[39;00m \u001B[38;5;21;01mMDSplus\u001B[39;00m \u001B[38;5;28;01mas\u001B[39;00m \u001B[38;5;21;01mmds\u001B[39;00m\n\u001B[1;32m----> 3\u001B[0m \u001B[38;5;28;01mimport\u001B[39;00m \u001B[38;5;21;01mretention\u001B[39;00m \u001B[38;5;28;01mas\u001B[39;00m \u001B[38;5;21;01mrt\u001B[39;00m\n",
      "File \u001B[1;32mD:\\Codes\\Python\\retention\\retention.py:8\u001B[0m\n\u001B[0;32m      5\u001B[0m \u001B[38;5;28;01mfrom\u001B[39;00m \u001B[38;5;21;01mscipy\u001B[39;00m\u001B[38;5;21;01m.\u001B[39;00m\u001B[38;5;21;01msignal\u001B[39;00m \u001B[38;5;28;01mimport\u001B[39;00m savgol_filter\n\u001B[0;32m      6\u001B[0m \u001B[38;5;28;01mfrom\u001B[39;00m \u001B[38;5;21;01mscipy\u001B[39;00m\u001B[38;5;21;01m.\u001B[39;00m\u001B[38;5;21;01minterpolate\u001B[39;00m \u001B[38;5;28;01mimport\u001B[39;00m interp1d\n\u001B[1;32m----> 8\u001B[0m cn \u001B[38;5;241m=\u001B[39m \u001B[43mmds\u001B[49m\u001B[38;5;241;43m.\u001B[39;49m\u001B[43mConnection\u001B[49m\u001B[43m(\u001B[49m\u001B[38;5;124;43m'\u001B[39;49m\u001B[38;5;124;43mmds.ipp.ac.cn\u001B[39;49m\u001B[38;5;124;43m'\u001B[39;49m\u001B[43m)\u001B[49m\n\u001B[0;32m     10\u001B[0m \u001B[38;5;28;01mdef\u001B[39;00m \u001B[38;5;21mget_retention\u001B[39m(shot,rate\u001B[38;5;241m=\u001B[39m\u001B[38;5;28;01mFalse\u001B[39;00m):\n\u001B[0;32m     11\u001B[0m     \u001B[38;5;124;03m\"\"\"shot:int, ratio = True when get retention rate\"\"\"\u001B[39;00m\n",
      "File \u001B[1;32mC:\\Program Files\\MDSplus\\python\\MDSplus\\connection.py:247\u001B[0m, in \u001B[0;36mConnection.__init__\u001B[1;34m(self, hostspec)\u001B[0m\n\u001B[0;32m    245\u001B[0m \u001B[38;5;28mself\u001B[39m\u001B[38;5;241m.\u001B[39m_local \u001B[38;5;241m=\u001B[39m threading\u001B[38;5;241m.\u001B[39mlocal()\n\u001B[0;32m    246\u001B[0m \u001B[38;5;28mself\u001B[39m\u001B[38;5;241m.\u001B[39mhostspec \u001B[38;5;241m=\u001B[39m hostspec\n\u001B[1;32m--> 247\u001B[0m \u001B[38;5;28;43mself\u001B[39;49m\u001B[38;5;241;43m.\u001B[39;49m\u001B[43mconnect\u001B[49m\u001B[43m(\u001B[49m\u001B[43m)\u001B[49m\n",
      "File \u001B[1;32mC:\\Program Files\\MDSplus\\python\\MDSplus\\connection.py:250\u001B[0m, in \u001B[0;36mConnection.connect\u001B[1;34m(self)\u001B[0m\n\u001B[0;32m    249\u001B[0m \u001B[38;5;28;01mdef\u001B[39;00m \u001B[38;5;21mconnect\u001B[39m(\u001B[38;5;28mself\u001B[39m):\n\u001B[1;32m--> 250\u001B[0m     \u001B[38;5;28;43mself\u001B[39;49m\u001B[38;5;241;43m.\u001B[39;49m\u001B[43mconn\u001B[49m\u001B[38;5;241;43m.\u001B[39;49m\u001B[43mconnect\u001B[49m\u001B[43m(\u001B[49m\u001B[43m)\u001B[49m\n",
      "File \u001B[1;32mC:\\Program Files\\MDSplus\\python\\MDSplus\\connection.py:82\u001B[0m, in \u001B[0;36m_Connection.connect\u001B[1;34m(self)\u001B[0m\n\u001B[0;32m     80\u001B[0m \u001B[38;5;28mself\u001B[39m\u001B[38;5;241m.\u001B[39m_conid \u001B[38;5;241m=\u001B[39m _ConnectToMds(\u001B[38;5;28mself\u001B[39m\u001B[38;5;241m.\u001B[39mhostspec)\n\u001B[0;32m     81\u001B[0m \u001B[38;5;28;01mif\u001B[39;00m \u001B[38;5;28mself\u001B[39m\u001B[38;5;241m.\u001B[39m_conid \u001B[38;5;241m==\u001B[39m INVALID_CONNECTION_ID:\n\u001B[1;32m---> 82\u001B[0m     \u001B[38;5;28;01mraise\u001B[39;00m MdsIpException(\u001B[38;5;124m\"\u001B[39m\u001B[38;5;124mError connecting to \u001B[39m\u001B[38;5;132;01m%s\u001B[39;00m\u001B[38;5;124m\"\u001B[39m \u001B[38;5;241m%\u001B[39m\n\u001B[0;32m     83\u001B[0m                          _ver\u001B[38;5;241m.\u001B[39mtostr(\u001B[38;5;28mself\u001B[39m\u001B[38;5;241m.\u001B[39mhostspec))\n",
      "\u001B[1;31mMdsIpException\u001B[0m: %MDSPLUS-E-Unknown, Error connecting to mds.ipp.ac.cn"
     ]
    }
   ],
   "source": [
    "import numpy as np\n",
    "import MDSplus as mds\n",
    "import retention as rt"
   ]
  },
  {
   "cell_type": "code",
   "execution_count": null,
   "outputs": [],
   "source": [
    "cn = mds.Connection('mds.ipp.ac.cn')\n",
    "shot = 100000"
   ],
   "metadata": {
    "collapsed": false,
    "pycharm": {
     "name": "#%%\n"
    }
   }
  },
  {
   "cell_type": "code",
   "execution_count": 4,
   "outputs": [],
   "source": [
    "cn.openTree('energy_east',shot)\n",
    "tau_e = cn.get('\\\\taue_mhd').data()\n",
    "time = cn.get('dim_of(taue_mhd)').data()"
   ],
   "metadata": {
    "collapsed": false,
    "pycharm": {
     "name": "#%%\n"
    }
   }
  },
  {
   "cell_type": "code",
   "execution_count": 5,
   "outputs": [
    {
     "data": {
      "text/plain": "array([0.00000e+00, 1.00000e-04, 2.00000e-04, ..., 1.11978e+01,\n       1.11979e+01, 1.11980e+01])"
     },
     "execution_count": 5,
     "metadata": {},
     "output_type": "execute_result"
    }
   ],
   "source": [
    "time"
   ],
   "metadata": {
    "collapsed": false,
    "pycharm": {
     "name": "#%%\n"
    }
   }
  },
  {
   "cell_type": "code",
   "execution_count": null,
   "outputs": [],
   "source": [
    "def get_rglobal(shot):\n",
    "\n",
    "    S_gas = get_Sgas(shot)\n",
    "    tau_p = 2 * get_taue(shot)\n",
    "    Ne = rt.get_plasma(shot)\n",
    "    Ne = np.diff(Ne)\n",
    "    R_global = S_gas(shot) * tau_p[1:]\n",
    "    idx = Ne!=0\n",
    "    R_global[idx] /= Ne[idx]\n",
    "\n",
    "    return R_global"
   ],
   "metadata": {
    "collapsed": false,
    "pycharm": {
     "name": "#%%\n"
    }
   }
  },
  {
   "cell_type": "code",
   "execution_count": null,
   "outputs": [],
   "source": [
    "def get_Sgas(shot):\n",
    "    rate = [0.1,0.25,1] # gas puffing, SMBI, PI\n",
    "    gas_puffing = rt.get_puff(shot)\n",
    "    SMBI = rt.get_SMBI(shot)\n",
    "    PI = rt.get_pi(shot)\n",
    "    S_gas = np.diff(gas_puffing)*rate[0]+np.diff(SMBI)*rate[1]+np.diff(PI)*rate[2]\n",
    "    return S_gas"
   ],
   "metadata": {
    "collapsed": false,
    "pycharm": {
     "name": "#%%\n"
    }
   }
  },
  {
   "cell_type": "code",
   "execution_count": null,
   "outputs": [],
   "source": [
    "def get_taue(shot):\n",
    "    (idx_begin,idx_end), time_ip = rt.get_time(shot)\n",
    "    cn.openTree('energy_east',shot)\n",
    "    tau_e = cn.get('\\\\taue_mhd').data()\n",
    "    tau_e = tau_e[::10]\n",
    "    time_taue = cn.get(\"dim_of(taue_mhd)\").data()[::10]\n",
    "    idx_tau_begin =  1000\n",
    "    idx_tau_end = int(time_taue[-1]*1000)  + 1000\n",
    "    # 统一频率\n",
    "    tau_e_long = np.zeros(idx_end-idx_begin)\n",
    "    tau_e_long[idx_tau_begin:idx_tau_end] = tau_e\n",
    "    return tau_e_long"
   ],
   "metadata": {
    "collapsed": false,
    "pycharm": {
     "name": "#%%\n"
    }
   }
  }
 ],
 "metadata": {
  "kernelspec": {
   "display_name": "Python 3",
   "language": "python",
   "name": "python3"
  },
  "language_info": {
   "codemirror_mode": {
    "name": "ipython",
    "version": 2
   },
   "file_extension": ".py",
   "mimetype": "text/x-python",
   "name": "python",
   "nbconvert_exporter": "python",
   "pygments_lexer": "ipython2",
   "version": "2.7.6"
  }
 },
 "nbformat": 4,
 "nbformat_minor": 0
}