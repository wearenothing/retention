{
 "cells": [
  {
   "cell_type": "markdown",
   "metadata": {
    "collapsed": true,
    "pycharm": {
     "name": "#%% md\n"
    }
   },
   "source": [
    "1. Q_puffing\n",
    "    * puffing\n",
    "    * NBI\n",
    "    * SMBI\n",
    "2. Q_pumping\n",
    "    * V\n",
    "    * t\n",
    "3. Q_plasma\n",
    "4. Q_vacuum\n",
    "\n",
    "# 1.Q_puffing"
   ]
  },
  {
   "cell_type": "markdown",
   "source": [
    "## 1.1 Gas Puffing"
   ],
   "metadata": {
    "collapsed": false,
    "pycharm": {
     "name": "#%% md\n"
    }
   }
  },
  {
   "cell_type": "code",
   "execution_count": 1,
   "outputs": [],
   "source": [
    "import MDSplus as mds\n",
    "import pandas as pd\n",
    "import numpy as np\n",
    "import matplotlib.pyplot as plt\n",
    "from scipy.signal import savgol_filter"
   ],
   "metadata": {
    "collapsed": false,
    "pycharm": {
     "name": "#%%\n"
    }
   }
  },
  {
   "cell_type": "code",
   "execution_count": 2,
   "outputs": [],
   "source": [
    "# shot = int(input(\"shot: \"))\n",
    "# signal = input(\"signal: \")\n",
    "shot = 100000\n",
    "\n",
    "cn  = mds.Connection('mds.ipp.ac.cn')\n",
    "cn.openTree('east_1', shot)"
   ],
   "metadata": {
    "collapsed": false,
    "pycharm": {
     "name": "#%%\n"
    }
   }
  },
  {
   "cell_type": "markdown",
   "source": [
    "Get idx_begin(start time point), idx_end (end time point)"
   ],
   "metadata": {
    "collapsed": false,
    "pycharm": {
     "name": "#%% md\n"
    }
   }
  },
  {
   "cell_type": "code",
   "execution_count": 3,
   "outputs": [
    {
     "data": {
      "text/plain": "17825"
     },
     "execution_count": 3,
     "metadata": {},
     "output_type": "execute_result"
    }
   ],
   "source": [
    "ip = cn.get('\\ipg')\n",
    "ip = ip.data()\n",
    "time_ip = cn.get('dim_of(\\ipg)').data()\n",
    "idx_begin = 6000\n",
    "idx_end = np.argwhere(ip > 10)[-1,0] # The return value of argwhere is row * 1\n",
    "idx_end"
   ],
   "metadata": {
    "collapsed": false,
    "pycharm": {
     "name": "#%%\n"
    }
   }
  },
  {
   "cell_type": "code",
   "execution_count": 4,
   "outputs": [],
   "source": [
    "signals = [\"JHG1\",\"JHG4\",\"JHG5\",\"CDG1\",\"DHG1\"]\n",
    "puffing = np.zeros(idx_end-idx_begin)"
   ],
   "metadata": {
    "collapsed": false,
    "pycharm": {
     "name": "#%%\n"
    }
   }
  },
  {
   "cell_type": "code",
   "execution_count": null,
   "outputs": [],
   "source": [
    "for signal in signals:\n",
    "    pressure = cn.get(f'\\\\{signal}').data()\n",
    "    if len(ip) <= 7000 and max(pressure) - min(pressure) <= 0.3:\n",
    "        data = 0\n",
    "    else:\n",
    "        background = np.mean(pressure[:idx_begin])\n",
    "        end_pressure = np.mean(pressure[idx_end:idx_end+1000])\n",
    "        pressure = pressure[idx_begin:idx_end]\n",
    "        pressure = savgol_filter(pressure, 1000,3)\n",
    "        pressure[pressure>background] = background\n",
    "        pressure[pressure<end_pressure] = end_pressure\n",
    "        pressure = background-pressure\n",
    "\n",
    "        Pam2P = 4.82e20 # 每pa立方米的粒子数\n",
    "        kp = 2.5e4  # 充气规管的转换系数\n",
    "\n",
    "        signal_volumes = {\n",
    "                             \"JHG1\":3.118e-4,\"JHG2\":2.91e-4,\"JHG3\": 2.922e-4,\"JHG4\":2.99e-4,\"JHG5\":2.997e-4,\"JHG6\":2.949e-4,\n",
    "                             \"OUG1\":1.4687e-3,\"ODG1\":1.4601e-3,\"CDG1\":6.792e-3,\n",
    "                             \"HDG1\":6.75e-3,\"KHG1\":2.938e-4,\"DHG1\":2.919e-4}\n",
    "        volume = signal_volumes[signal]\n",
    "        pressure *= kp * volume * Pam2P\n",
    "        pressure[pressure<1e18] = 0\n",
    "        data = pressure\n",
    "    puffing += data"
   ],
   "metadata": {
    "collapsed": false,
    "pycharm": {
     "name": "#%%\n",
     "is_executing": true
    }
   }
  },
  {
   "cell_type": "code",
   "execution_count": null,
   "outputs": [],
   "source": [
    "plt.plot(time_ip[idx_begin:idx_end],puffing)"
   ],
   "metadata": {
    "collapsed": false,
    "pycharm": {
     "name": "#%%\n",
     "is_executing": true
    }
   }
  }
 ],
 "metadata": {
  "kernelspec": {
   "display_name": "Python 3",
   "language": "python",
   "name": "python3"
  },
  "language_info": {
   "codemirror_mode": {
    "name": "ipython",
    "version": 2
   },
   "file_extension": ".py",
   "mimetype": "text/x-python",
   "name": "python",
   "nbconvert_exporter": "python",
   "pygments_lexer": "ipython2",
   "version": "2.7.6"
  }
 },
 "nbformat": 4,
 "nbformat_minor": 0
}