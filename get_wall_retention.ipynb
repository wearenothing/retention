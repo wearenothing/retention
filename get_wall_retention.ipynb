{
 "cells": [
  {
   "cell_type": "markdown",
   "metadata": {
    "collapsed": true,
    "pycharm": {
     "name": "#%% md\n"
    }
   },
   "source": [
    "1. Q_puffing\n",
    "    * puffing\n",
    "    * NBI\n",
    "    * SMBI\n",
    "    * PI\n",
    "2. Q_pumping\n",
    "\n",
    "3. Q_plasma\n",
    "4. Q_vacuum\n",
    "\n",
    "# 1.Q_puffing"
   ]
  },
  {
   "cell_type": "markdown",
   "source": [
    "## 1.1 Gas Puffing"
   ],
   "metadata": {
    "collapsed": false,
    "pycharm": {
     "name": "#%% md\n"
    }
   }
  },
  {
   "cell_type": "code",
   "execution_count": 7,
   "outputs": [],
   "source": [
    "import MDSplus as mds\n",
    "import pandas as pd\n",
    "import numpy as np\n",
    "import matplotlib.pyplot as plt\n",
    "from scipy.signal import savgol_filter"
   ],
   "metadata": {
    "collapsed": false,
    "pycharm": {
     "name": "#%%\n"
    }
   }
  },
  {
   "cell_type": "code",
   "execution_count": 8,
   "outputs": [],
   "source": [
    "# shot = int(input(\"shot: \"))\n",
    "# signal = input(\"signal: \")\n",
    "shot = 100000\n",
    "\n",
    "cn  = mds.Connection('mds.ipp.ac.cn')\n",
    "cn.openTree('east_1', shot)"
   ],
   "metadata": {
    "collapsed": false,
    "pycharm": {
     "name": "#%%\n"
    }
   }
  },
  {
   "cell_type": "markdown",
   "source": [
    "Get idx_begin(start time point), idx_end (end time point)"
   ],
   "metadata": {
    "collapsed": false,
    "pycharm": {
     "name": "#%% md\n"
    }
   }
  },
  {
   "cell_type": "code",
   "execution_count": 9,
   "outputs": [
    {
     "data": {
      "text/plain": "17825"
     },
     "execution_count": 9,
     "metadata": {},
     "output_type": "execute_result"
    }
   ],
   "source": [
    "ip = cn.get('\\ipg')\n",
    "ip = ip.data()\n",
    "time_ip = cn.get('dim_of(\\ipg)').data()\n",
    "idx_begin = 6000\n",
    "idx_end = np.argwhere(ip > 10)[-1,0] # The return value of argwhere is row * 1\n",
    "idx_end"
   ],
   "metadata": {
    "collapsed": false,
    "pycharm": {
     "name": "#%%\n"
    }
   }
  },
  {
   "cell_type": "code",
   "execution_count": 10,
   "outputs": [],
   "source": [
    "signals = [\"JHG1\",\"JHG4\",\"JHG5\",\"CDG1\",\"DHG1\"]\n",
    "puffing = np.zeros(idx_end-idx_begin)"
   ],
   "metadata": {
    "collapsed": false,
    "pycharm": {
     "name": "#%%\n"
    }
   }
  },
  {
   "cell_type": "code",
   "execution_count": 11,
   "outputs": [],
   "source": [
    "for signal in signals:\n",
    "    pressure = cn.get(f'\\\\{signal}').data()\n",
    "    if len(ip) <= 7000 and max(pressure) - min(pressure) <= 0.3:\n",
    "        data = 0\n",
    "    else:\n",
    "        background = np.mean(pressure[:idx_begin])\n",
    "        end_pressure = np.mean(pressure[idx_end:idx_end+1000])\n",
    "        pressure = pressure[idx_begin:idx_end]\n",
    "        pressure = savgol_filter(pressure, 1000,3)\n",
    "        pressure[pressure>background] = background\n",
    "        pressure[pressure<end_pressure] = end_pressure\n",
    "        pressure = background-pressure\n",
    "\n",
    "        Pam2P = 4.82e20 # 每pa立方米的粒子数\n",
    "        kp = 2.5e4  # 充气规管的转换系数\n",
    "\n",
    "        signal_volumes = {\n",
    "                             \"JHG1\":3.118e-4,\"JHG2\":2.91e-4,\"JHG3\": 2.922e-4,\"JHG4\":2.99e-4,\"JHG5\":2.997e-4,\"JHG6\":2.949e-4,\n",
    "                             \"OUG1\":1.4687e-3,\"ODG1\":1.4601e-3,\"CDG1\":6.792e-3,\n",
    "                             \"HDG1\":6.75e-3,\"KHG1\":2.938e-4,\"DHG1\":2.919e-4}\n",
    "        volume = signal_volumes[signal]\n",
    "        pressure *= kp * volume * Pam2P\n",
    "        pressure[pressure<1e18] = 0\n",
    "        data = pressure\n",
    "    puffing += data"
   ],
   "metadata": {
    "collapsed": false,
    "pycharm": {
     "name": "#%%\n"
    }
   }
  },
  {
   "cell_type": "code",
   "execution_count": 12,
   "outputs": [
    {
     "data": {
      "text/plain": "[<matplotlib.lines.Line2D at 0x285676a9ee0>]"
     },
     "execution_count": 12,
     "metadata": {},
     "output_type": "execute_result"
    },
    {
     "data": {
      "text/plain": "<Figure size 640x480 with 1 Axes>",
      "image/png": "[encoded data removed]"
     },
     "metadata": {},
     "output_type": "display_data"
    }
   ],
   "source": [
    "plt.plot(time_ip[idx_begin:idx_end],puffing)"
   ],
   "metadata": {
    "collapsed": false,
    "pycharm": {
     "name": "#%%\n"
    }
   }
  },
  {
   "cell_type": "markdown",
   "source": [
    "## 1.2 SMBI"
   ],
   "metadata": {
    "collapsed": false,
    "pycharm": {
     "name": "#%% md\n"
    }
   }
  },
  {
   "cell_type": "code",
   "execution_count": 13,
   "outputs": [],
   "source": [
    "def get_SMBI(shot,which_one):\n",
    "    gauges = np.array([['\\pjs105', '\\pjs103'],['\\pjs205', '\\pjs203'],['\\pas105', '\\pas103']])\n",
    "\n",
    "    Pam2P = 4.82e20\n",
    "    volume = 2.0431e-4\n",
    "    which_gauge = 0\n",
    "    if idx_end - idx_begin >= 1+1e5:\n",
    "        volume = 2.0431e-4 + 3.78e-3\n",
    "        which_gauge = 1\n",
    "    gauge = gauges[which_one,which_gauge]\n",
    "    pressure = cn.get(gauges[which_one,which_gauge]).data()\n",
    "    \n",
    "    if max(pressure)<0.1 and which_gauge == 0:\n",
    "            volume = 2.0431e-4+3.78e-3\n",
    "            which_gauge = 1\n",
    "            gauge = gauges[which_one, which_gauge]\n",
    "            pressure = cn.get(gauge).data()\n",
    "    \n",
    "    if which_gauge == 0 and max(pressure) > 9.8:\n",
    "            which_gauge = 1\n",
    "            gauge = gauges[which_one, which_gauge]\n",
    "            pressure = cn.get(gauge).data()\n",
    "    \n",
    "    background = np.mean(pressure[:idx_begin])\n",
    "    end_pressure = np.mean(pressure[idx_end:idx_end + 1000])\n",
    "    pressure = pressure[idx_begin:idx_end]\n",
    "    \n",
    "    pressure = savgol_filter(pressure, 1000,3)\n",
    "    \n",
    "    if which_gauge == 0:\n",
    "        pressure[pressure < background] = background\n",
    "        pressure[pressure > end_pressure] = end_pressure\n",
    "        kp = 2e3\n",
    "        pressure = pressure - background\n",
    "    else:\n",
    "        pressure[pressure > background] = background\n",
    "        pressure[pressure < end_pressure] = end_pressure\n",
    "        kp = 4e5\n",
    "        pressure = background - pressure\n",
    "    \n",
    "    pressure = pressure * kp * volume * Pam2P\n",
    "    pressure[pressure < 1e18] = 0\n",
    "    return pressure"
   ],
   "metadata": {
    "collapsed": false,
    "pycharm": {
     "name": "#%%\n"
    }
   }
  },
  {
   "cell_type": "code",
   "execution_count": 16,
   "outputs": [
    {
     "data": {
      "text/plain": "[<matplotlib.lines.Line2D at 0x285676d2850>]"
     },
     "execution_count": 16,
     "metadata": {},
     "output_type": "execute_result"
    },
    {
     "data": {
      "text/plain": "<Figure size 640x480 with 1 Axes>",
      "image/png": "[encoded data removed]"
     },
     "metadata": {},
     "output_type": "display_data"
    }
   ],
   "source": [
    "smbi2 = get_SMBI(shot,1)\n",
    "plt.plot(time_ip[idx_begin:idx_end],smbi2)"
   ],
   "metadata": {
    "collapsed": false,
    "pycharm": {
     "name": "#%%\n"
    }
   }
  },
  {
   "cell_type": "code",
   "execution_count": 17,
   "outputs": [
    {
     "data": {
      "text/plain": "[<matplotlib.lines.Line2D at 0x2856773f490>]"
     },
     "execution_count": 17,
     "metadata": {},
     "output_type": "execute_result"
    },
    {
     "data": {
      "text/plain": "<Figure size 640x480 with 1 Axes>",
      "image/png": "[encoded data removed]"
     },
     "metadata": {},
     "output_type": "display_data"
    }
   ],
   "source": [
    "smbi3 = get_SMBI(shot,2)\n",
    "plt.plot(time_ip[idx_begin:idx_end],smbi3)"
   ],
   "metadata": {
    "collapsed": false,
    "pycharm": {
     "name": "#%%\n"
    }
   }
  },
  {
   "cell_type": "markdown",
   "source": [
    "## 1.3 NBI"
   ],
   "metadata": {
    "collapsed": false,
    "pycharm": {
     "name": "#%% md\n"
    }
   }
  },
  {
   "cell_type": "code",
   "execution_count": 18,
   "outputs": [],
   "source": [
    "def getNBI(shot):\n",
    "\n",
    "    kp = 1e19 / 1.6\n",
    "    NBI1LHI=0.8 * (cn.get('\\\\NBI1LHI')).data()\n",
    "    NBI1RHI=0.8 * (cn.get('\\\\NBI1RHI')).data()\n",
    "    NBI2LHI=0.8 * (cn.get('\\\\NBI2LHI')).data()\n",
    "    NBI2RHI=0.8 * (cn.get('\\\\NBI2RHI')).data()\n",
    "    # time_NBI=cn.get('dim_of(\\\\NBI2RHI)').data()\n",
    "\n",
    "    background_NBI1LHI=np.mean(NBI1LHI[:idx_begin])\n",
    "    NBI1LHI=NBI1LHI-background_NBI1LHI\n",
    "    background_NBI1RHI=np.mean(NBI1RHI[:idx_begin])\n",
    "    NBI1RHI=NBI1RHI-background_NBI1RHI\n",
    "    background_NBI2RHI=np.mean(NBI2RHI[:idx_begin])\n",
    "    NBI2RHI=NBI2RHI-background_NBI2RHI\n",
    "    background_NBI2LHI=np.mean(NBI2LHI[:idx_begin])\n",
    "    NBI2LHI=NBI2LHI-background_NBI2LHI\n",
    "    NBI= NBI1LHI+NBI1RHI+NBI2LHI+NBI2RHI\n",
    "    NBI = NBI[idx_begin:idx_end]\n",
    "    NBI = NBI * kp\n",
    "\n",
    "    NBI[NBI<5e18] = 0\n",
    "    NBI[1:1000] = 0\n",
    "    return NBI"
   ],
   "metadata": {
    "collapsed": false,
    "pycharm": {
     "name": "#%%\n"
    }
   }
  },
  {
   "cell_type": "code",
   "execution_count": 20,
   "outputs": [
    {
     "data": {
      "text/plain": "[<matplotlib.lines.Line2D at 0x285675ae220>]"
     },
     "execution_count": 20,
     "metadata": {},
     "output_type": "execute_result"
    },
    {
     "data": {
      "text/plain": "<Figure size 640x480 with 1 Axes>",
      "image/png": "[encoded data removed]"
     },
     "metadata": {},
     "output_type": "display_data"
    }
   ],
   "source": [
    "NBI = getNBI(100000)    #TODO: 找一炮有NBI注入的\n",
    "plt.plot(time_ip[idx_begin:idx_end],NBI)"
   ],
   "metadata": {
    "collapsed": false,
    "pycharm": {
     "name": "#%%\n"
    }
   }
  },
  {
   "cell_type": "markdown",
   "source": [
    "## 1.4 PI"
   ],
   "metadata": {
    "collapsed": false,
    "pycharm": {
     "name": "#%% md\n"
    }
   }
  },
  {
   "cell_type": "code",
   "execution_count": 24,
   "outputs": [],
   "source": [
    "def get_PI(shot):\n",
    "    kp = 2e20\n",
    "    PI = cn.get('\\\\vpi20').data()\n",
    "    PI = PI[idx_begin:idx_end]\n",
    "    PI = np.diff(PI)\n",
    "    PI = np.append(PI,0)\n",
    "    PI[PI<=4] = 0\n",
    "    PI[PI>4] = 1\n",
    "    PI = np.cumsum(PI)\n",
    "    return kp * PI"
   ],
   "metadata": {
    "collapsed": false,
    "pycharm": {
     "name": "#%%\n"
    }
   }
  },
  {
   "cell_type": "code",
   "execution_count": 25,
   "outputs": [
    {
     "data": {
      "text/plain": "[<matplotlib.lines.Line2D at 0x28569378e80>]"
     },
     "execution_count": 25,
     "metadata": {},
     "output_type": "execute_result"
    },
    {
     "data": {
      "text/plain": "<Figure size 640x480 with 1 Axes>",
      "image/png": "[encoded data removed]"
     },
     "metadata": {},
     "output_type": "display_data"
    }
   ],
   "source": [
    "PI = get_PI(100000)\n",
    "plt.plot(time_ip[idx_begin:idx_end],PI)"
   ],
   "metadata": {
    "collapsed": false,
    "pycharm": {
     "name": "#%%\n"
    }
   }
  },
  {
   "cell_type": "markdown",
   "source": [
    "# 2. Pumping"
   ],
   "metadata": {
    "collapsed": false,
    "pycharm": {
     "name": "#%% md\n"
    }
   }
  },
  {
   "cell_type": "code",
   "execution_count": 26,
   "outputs": [],
   "source": [
    "def get_pump(shot):\n",
    "    KD2 = 2.9\n",
    "    Pam2P = 4.82e20\n",
    "    HD = 0.5\n",
    "    main_speed = 77\n",
    "    up_speed = 67\n",
    "    low_speed = 60.5\n",
    "\n",
    "    G107 = cn.get('\\\\G107').data()\n",
    "    if len(G107)<7000:\n",
    "        G107 = cn.get('\\\\G101').data()\n",
    "\n",
    "\n",
    "    G107 = G107[idx_begin:idx_end]\n",
    "    G107 = 10 ** (1.667*G107-9.333)\n",
    "\n",
    "\n",
    "    G106 = cn.get('\\\\G106').data()\n",
    "\n",
    "    if max(G106)<1:\n",
    "        G106 = G107\n",
    "    else:\n",
    "        G106 = G106[idx_begin:idx_end]\n",
    "        G106 = 10 ** (1.667*G106-9.333)\n",
    "\n",
    "\n",
    "    G109 = cn.get('\\\\G109').data()\n",
    "\n",
    "    if max(G109)<1:\n",
    "        G109 = G107\n",
    "    else:\n",
    "        G109 = G109[idx_begin:idx_end]\n",
    "        G109 = 10 ** (1.667 * G109 - 9.333)\n",
    "\n",
    "\n",
    "    data = up_speed*G109+low_speed*G106+main_speed*G107\n",
    "    data = HD*KD2*Pam2P*data\n",
    "\n",
    "    data[data<5e18] = 0\n",
    "    data[1:1000] = 0\n",
    "\n",
    "\n",
    "    return data"
   ],
   "metadata": {
    "collapsed": false,
    "pycharm": {
     "name": "#%%\n"
    }
   }
  },
  {
   "cell_type": "code",
   "execution_count": 28,
   "outputs": [
    {
     "data": {
      "text/plain": "[<matplotlib.lines.Line2D at 0x285693d2f70>]"
     },
     "execution_count": 28,
     "metadata": {},
     "output_type": "execute_result"
    },
    {
     "data": {
      "text/plain": "<Figure size 640x480 with 1 Axes>",
      "image/png": "[encoded data removed]"
     },
     "metadata": {},
     "output_type": "display_data"
    }
   ],
   "source": [
    "pump = get_pump(100000)\n",
    "plt.plot(time_ip[idx_begin:idx_end],pump)"
   ],
   "metadata": {
    "collapsed": false,
    "pycharm": {
     "name": "#%%\n"
    }
   }
  },
  {
   "cell_type": "markdown",
   "source": [
    "## 1.3 Q_plasma"
   ],
   "metadata": {
    "collapsed": false,
    "pycharm": {
     "name": "#%% md\n"
    }
   }
  }
 ],
 "metadata": {
  "kernelspec": {
   "display_name": "Python 3",
   "language": "python",
   "name": "python3"
  },
  "language_info": {
   "codemirror_mode": {
    "name": "ipython",
    "version": 2
   },
   "file_extension": ".py",
   "mimetype": "text/x-python",
   "name": "python",
   "nbconvert_exporter": "python",
   "pygments_lexer": "ipython2",
   "version": "2.7.6"
  }
 },
 "nbformat": 4,
 "nbformat_minor": 0
}