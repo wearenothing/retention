{
 "cells": [
  {
   "cell_type": "code",
   "execution_count": null,
   "metadata": {
    "collapsed": true
   },
   "outputs": [],
   "source": [
    "import MDSplus as mds\n",
    "import pandas as pd\n",
    "import numpy as np\n",
    "import matplotlib.pyplot as plt\n",
    "from scipy.signal import savgol_filter"
   ]
  },
  {
   "cell_type": "code",
   "execution_count": null,
   "outputs": [],
   "source": [
    "shot = 100000\n",
    "cn  = mds.Connection('mds.ipp.ac.cn')\n",
    "cn.openTree('east_1', shot)"
   ],
   "metadata": {
    "collapsed": false,
    "pycharm": {
     "name": "#%%\n"
    }
   }
  },
  {
   "cell_type": "code",
   "execution_count": null,
   "outputs": [],
   "source": [
    "ip = cn.get('\\ipg')\n",
    "ip = ip.data()\n",
    "time_ip = cn.get('dim_of(\\ipg)')\n",
    "idx_begin = 6000\n",
    "idx_end = np.argwhere(ip > 10)[-1,0] # The return value of argwhere is row * 1\n",
    "idx_end"
   ],
   "metadata": {
    "collapsed": false,
    "pycharm": {
     "name": "#%%\n"
    }
   }
  },
  {
   "cell_type": "code",
   "execution_count": null,
   "outputs": [],
   "source": [
    "NBI1LHI=0.8.*(mdsvalue('\\NBI1LHI'))\n",
    "NBI1RHI=0.8.*(mdsvalue('\\NBI1RHI'))\n",
    "NBI2LHI=0.8.*(mdsvalue('\\NBI2LHI'))\n",
    "NBI2RHI=0.8.*(mdsvalue('\\NBI2RHI'))\n",
    "time_NBI=mdsvalue('dim_of(\\NBI2RHI)')\n",
    "%NBI 注入部分\n",
    "idx_end = 6000 + length(time)\n",
    "background_NBI1LHI=mean(NBI1LHI(1:6000))\n",
    "NBI1LHI=NBI1LHI-background_NBI1LHI\n",
    "background_NBI1RHI=mean(NBI1RHI(1:6000))\n",
    "NBI1RHI=NBI1RHI-background_NBI1RHI\n",
    "background_NBI2RHI=mean(NBI2RHI(1:6000))\n",
    "NBI2RHI=NBI2RHI-background_NBI2RHI\n",
    "background_NBI2LHI=mean(NBI2LHI(1:6000))\n",
    "NBI2LHI=NBI2LHI-background_NBI2LHI\n",
    "NBI= NBI1LHI+NBI1RHI+NBI2LHI+NBI2RHI\n",
    "\n",
    "NBI = NBI(6001:idx_end)"
   ],
   "metadata": {
    "collapsed": false,
    "pycharm": {
     "name": "#%%\n"
    }
   }
  }
 ],
 "metadata": {
  "kernelspec": {
   "display_name": "Python 3",
   "language": "python",
   "name": "python3"
  },
  "language_info": {
   "codemirror_mode": {
    "name": "ipython",
    "version": 2
   },
   "file_extension": ".py",
   "mimetype": "text/x-python",
   "name": "python",
   "nbconvert_exporter": "python",
   "pygments_lexer": "ipython2",
   "version": "2.7.6"
  }
 },
 "nbformat": 4,
 "nbformat_minor": 0
}